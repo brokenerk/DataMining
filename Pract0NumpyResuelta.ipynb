{
 "cells": [
  {
   "cell_type": "markdown",
   "metadata": {},
   "source": [
    "# Numpy\n",
    "El módulo NumPy proporciona un objeto ndarray que podemos usar para realizar operaciones en una arreglo de cualquier dimensión. El ndarray significa arreglo de N dimensiones donde N es cualquier número. Eso significa que los arreglos NumPy puede ser de cualquier dimensión.\n",
    "\n",
    "NumPy tiene una serie de ventajas sobre las listas de Python. Podemos realizar operaciones de alto rendimiento en los arreglos NumPy, tales como:\n",
    "\n",
    "* Ordenar los miembros de un arreglo.\n",
    "* Operaciones matemáticas y lógicas.\n",
    "* Funciones de entrada / salida.\n",
    "* Operaciones estadísticas y de álgebra lineal.\n",
    "\n",
    "La razón por la que es tan usada hoy en día con respecto a las listas normales de Python aparte de lo anterior mensionado son:\n",
    "* Las estructuras de Numpy ocupan menos espacio que las estructuras nativas de Python\n",
    "* Las operaciones se hacen de forma más rápida que con las estructuras nativas de Python.\n",
    "\n",
    "## Importamos la biblioteca"
   ]
  },
  {
   "cell_type": "code",
   "execution_count": 57,
   "metadata": {},
   "outputs": [],
   "source": [
    "import numpy as np\n",
    "import sys\n",
    "import time"
   ]
  },
  {
   "cell_type": "markdown",
   "metadata": {},
   "source": [
    "## Creación de un array\n",
    "Para crear un nuevo array de Python partiremos de tener una lista creada"
   ]
  },
  {
   "cell_type": "code",
   "execution_count": 58,
   "metadata": {},
   "outputs": [
    {
     "name": "stdout",
     "output_type": "stream",
     "text": [
      "Array creado:\n"
     ]
    },
    {
     "data": {
      "text/plain": [
       "array([1, 2, 3, 4, 5])"
      ]
     },
     "execution_count": 58,
     "metadata": {},
     "output_type": "execute_result"
    }
   ],
   "source": [
    "listaNumeros=[1,2,3,4,5]\n",
    "a=np.array(listaNumeros)\n",
    "print(\"Array creado:\")\n",
    "a"
   ]
  },
  {
   "cell_type": "markdown",
   "metadata": {},
   "source": [
    "Para verificar su tipo de dato usaremos la función type()"
   ]
  },
  {
   "cell_type": "code",
   "execution_count": 59,
   "metadata": {},
   "outputs": [
    {
     "data": {
      "text/plain": [
       "numpy.ndarray"
      ]
     },
     "execution_count": 59,
     "metadata": {},
     "output_type": "execute_result"
    }
   ],
   "source": [
    "type(a)"
   ]
  },
  {
   "cell_type": "markdown",
   "metadata": {},
   "source": [
    "## Principales atributos del array\n",
    "* dtype: Tipo de objetos que contiene el array\n",
    "* itemsize: Número de elementos del array\n",
    "* ndim: número de dimensiones del array"
   ]
  },
  {
   "cell_type": "code",
   "execution_count": 60,
   "metadata": {},
   "outputs": [
    {
     "name": "stdout",
     "output_type": "stream",
     "text": [
      "[2 4 6 7]\n",
      "int32\n",
      "4\n",
      "1\n",
      "Bytes size: 16 bytes\n"
     ]
    }
   ],
   "source": [
    "a = np.array([2, 4, 6,7])\n",
    "print(a)\n",
    "print(a.dtype)\n",
    "print(a.itemsize)\n",
    "print(a.ndim)\n",
    "print(\"Bytes size: {} bytes\".format(a.size * a.itemsize))"
   ]
  },
  {
   "cell_type": "markdown",
   "metadata": {},
   "source": [
    "## arange()\n",
    "La función arange genera una serie de números consecutivos entre ciertos límites\n",
    "Por ejemplo:"
   ]
  },
  {
   "cell_type": "code",
   "execution_count": 61,
   "metadata": {},
   "outputs": [
    {
     "name": "stdout",
     "output_type": "stream",
     "text": [
      "[1 2 3 4 5 6 7 8 9]\n"
     ]
    }
   ],
   "source": [
    "print(np.arange(1,10))"
   ]
  },
  {
   "cell_type": "markdown",
   "metadata": {},
   "source": [
    "### Ejercicio:\n",
    "Generar un array que contenga los valores entre 0 y 99.\n",
    "Imprimir el array generado"
   ]
  },
  {
   "cell_type": "code",
   "execution_count": 62,
   "metadata": {},
   "outputs": [
    {
     "name": "stdout",
     "output_type": "stream",
     "text": [
      "[ 0  1  2  3  4  5  6  7  8  9 10 11 12 13 14 15 16 17 18 19 20 21 22 23\n",
      " 24 25 26 27 28 29 30 31 32 33 34 35 36 37 38 39 40 41 42 43 44 45 46 47\n",
      " 48 49 50 51 52 53 54 55 56 57 58 59 60 61 62 63 64 65 66 67 68 69 70 71\n",
      " 72 73 74 75 76 77 78 79 80 81 82 83 84 85 86 87 88 89 90 91 92 93 94 95\n",
      " 96 97 98 99]\n"
     ]
    }
   ],
   "source": [
    "b=np.arange(0,100)\n",
    "print(b)"
   ]
  },
  {
   "cell_type": "markdown",
   "metadata": {},
   "source": [
    "## zeros()\n",
    "Genera un número especifico de ceros.\n",
    "Ejemplo:"
   ]
  },
  {
   "cell_type": "code",
   "execution_count": 63,
   "metadata": {},
   "outputs": [
    {
     "name": "stdout",
     "output_type": "stream",
     "text": [
      "[0. 0. 0. 0. 0. 0. 0. 0.]\n"
     ]
    }
   ],
   "source": [
    "print(np.zeros(8))"
   ]
  },
  {
   "cell_type": "markdown",
   "metadata": {},
   "source": [
    "### Ejercicio:\n",
    "Generar un array que contenga 20 ceros.\n",
    "Imprimir el array generado"
   ]
  },
  {
   "cell_type": "code",
   "execution_count": 64,
   "metadata": {},
   "outputs": [
    {
     "name": "stdout",
     "output_type": "stream",
     "text": [
      "[0. 0. 0. 0. 0. 0. 0. 0. 0. 0. 0. 0. 0. 0. 0. 0. 0. 0. 0. 0.]\n"
     ]
    }
   ],
   "source": [
    "b=np.zeros(20)\n",
    "print(b)"
   ]
  },
  {
   "cell_type": "markdown",
   "metadata": {},
   "source": [
    "## full()\n",
    "\n",
    "Genera una matriz con un número constante. Ejemplo:"
   ]
  },
  {
   "cell_type": "code",
   "execution_count": 65,
   "metadata": {},
   "outputs": [
    {
     "name": "stdout",
     "output_type": "stream",
     "text": [
      "[[9 9 9]\n",
      " [9 9 9]\n",
      " [9 9 9]]\n"
     ]
    }
   ],
   "source": [
    "constN=np.full((3,3),9)\n",
    "print(constN)"
   ]
  },
  {
   "cell_type": "markdown",
   "metadata": {},
   "source": [
    "## random\n",
    "Generación de números random"
   ]
  },
  {
   "cell_type": "code",
   "execution_count": 66,
   "metadata": {},
   "outputs": [
    {
     "name": "stdout",
     "output_type": "stream",
     "text": [
      "[0.34493801 0.7935284  0.91799698 0.96764206]\n"
     ]
    }
   ],
   "source": [
    "v = np.random.rand(4)\n",
    "print(v)"
   ]
  },
  {
   "cell_type": "markdown",
   "metadata": {},
   "source": [
    "## reshape\n",
    "Numpy nos permite redimensionar los arreglos creados. Para ello usamos reshape()"
   ]
  },
  {
   "cell_type": "code",
   "execution_count": 67,
   "metadata": {},
   "outputs": [
    {
     "name": "stdout",
     "output_type": "stream",
     "text": [
      "[0 1 2 0 1 0 2 1 1 1 0 2 0 2 0 0 1 0 4 2 4 1 2 1 4]\n",
      "(25,)\n",
      "[[0 1 2 0 1]\n",
      " [0 2 1 1 1]\n",
      " [0 2 0 2 0]\n",
      " [0 1 0 4 2]\n",
      " [4 1 2 1 4]]\n",
      "(5, 5)\n"
     ]
    }
   ],
   "source": [
    "nArr=np.random.choice([1,2,3,4,0],25)\n",
    "print(nArr)\n",
    "print(nArr.shape)\n",
    "nArr55=nArr.reshape(5,5)\n",
    "print(nArr55)\n",
    "print(nArr55.shape)"
   ]
  },
  {
   "cell_type": "markdown",
   "metadata": {},
   "source": [
    "## Acceder a los elementos\n",
    "- Obtener una fila completa"
   ]
  },
  {
   "cell_type": "code",
   "execution_count": 76,
   "metadata": {},
   "outputs": [
    {
     "name": "stdout",
     "output_type": "stream",
     "text": [
      "[0 2 0 2 0]\n"
     ]
    }
   ],
   "source": [
    "print(nArr55[2])"
   ]
  },
  {
   "cell_type": "markdown",
   "metadata": {},
   "source": [
    "- Obtener un elemento específico"
   ]
  },
  {
   "cell_type": "code",
   "execution_count": 77,
   "metadata": {},
   "outputs": [
    {
     "name": "stdout",
     "output_type": "stream",
     "text": [
      "0\n"
     ]
    }
   ],
   "source": [
    "print(nArr55[2,2])"
   ]
  },
  {
   "cell_type": "markdown",
   "metadata": {},
   "source": [
    "- Uso de \":\""
   ]
  },
  {
   "cell_type": "code",
   "execution_count": 89,
   "metadata": {},
   "outputs": [
    {
     "name": "stdout",
     "output_type": "stream",
     "text": [
      "[[2 0 1]\n",
      " [1 1 1]\n",
      " [0 2 0]\n",
      " [0 4 2]\n",
      " [2 1 4]]\n"
     ]
    }
   ],
   "source": [
    "print(nArr55[:,2:5])"
   ]
  },
  {
   "cell_type": "markdown",
   "metadata": {},
   "source": [
    "## Operaciones álgebra lineal"
   ]
  },
  {
   "cell_type": "code",
   "execution_count": 68,
   "metadata": {},
   "outputs": [
    {
     "name": "stdout",
     "output_type": "stream",
     "text": [
      "A:[[1. 1. 1.]\n",
      " [1. 1. 1.]\n",
      " [1. 1. 1.]]\n",
      "\n",
      "B:[[10 11 12]\n",
      " [13 14 15]\n",
      " [16 17 18]]\n",
      "\n"
     ]
    }
   ],
   "source": [
    "A=np.ones(9).reshape(3,3)\n",
    "B=np.arange(10,19).reshape(3,3)\n",
    "print(\"A:{}\".format(A))\n",
    "print()\n",
    "print(\"B:{}\".format(B))\n",
    "print()"
   ]
  },
  {
   "cell_type": "markdown",
   "metadata": {},
   "source": [
    "- Suma: +"
   ]
  },
  {
   "cell_type": "code",
   "execution_count": 69,
   "metadata": {},
   "outputs": [
    {
     "name": "stdout",
     "output_type": "stream",
     "text": [
      "El resutado de la suma es:\n",
      "[[11. 12. 13.]\n",
      " [14. 15. 16.]\n",
      " [17. 18. 19.]]\n"
     ]
    }
   ],
   "source": [
    "C=A+B\n",
    "print(\"El resutado de la suma es:\\n{}\".format(C))"
   ]
  },
  {
   "cell_type": "markdown",
   "metadata": {},
   "source": [
    "- Producto por escalar: n*Array"
   ]
  },
  {
   "cell_type": "code",
   "execution_count": 70,
   "metadata": {},
   "outputs": [
    {
     "name": "stdout",
     "output_type": "stream",
     "text": [
      "El resutado del producto por un escalar es:\n",
      "[[3. 3. 3.]\n",
      " [3. 3. 3.]\n",
      " [3. 3. 3.]]\n"
     ]
    }
   ],
   "source": [
    "D=3*A\n",
    "print(\"El resutado del producto por un escalar es:\\n{}\".format(D))"
   ]
  },
  {
   "cell_type": "markdown",
   "metadata": {},
   "source": [
    "- Producto elemento a elemento: Array1*Array2"
   ]
  },
  {
   "cell_type": "code",
   "execution_count": 71,
   "metadata": {},
   "outputs": [
    {
     "name": "stdout",
     "output_type": "stream",
     "text": [
      "El resutado del producto elemento a elemento es:\n",
      "[[30. 33. 36.]\n",
      " [39. 42. 45.]\n",
      " [48. 51. 54.]]\n"
     ]
    }
   ],
   "source": [
    "E=D*B\n",
    "print(\"El resutado del producto elemento a elemento es:\\n{}\".format(E))"
   ]
  },
  {
   "cell_type": "markdown",
   "metadata": {},
   "source": [
    "- Producto matricial: Array1 @ Array2"
   ]
  },
  {
   "cell_type": "code",
   "execution_count": 72,
   "metadata": {},
   "outputs": [
    {
     "name": "stdout",
     "output_type": "stream",
     "text": [
      "El resutado de la suma es:\n",
      "[[1305. 1404. 1503.]\n",
      " [1656. 1782. 1908.]\n",
      " [2007. 2160. 2313.]]\n"
     ]
    }
   ],
   "source": [
    "F=E@B\n",
    "print(\"El resutado de la suma es:\\n{}\".format(F))"
   ]
  },
  {
   "cell_type": "markdown",
   "metadata": {},
   "source": [
    "## Ejercicio:\n",
    "Dada la lista [12,15,19,60,80,10,9,0,9]\n",
    "- Crea una matriz de 3x3 a partir de dicha lista y guárdala en \"A\"\n",
    "- Crea una matriz de 3x3 rellenada con 7s y guárdala en \"B\"\n",
    "- Crea una matriz de 3x3 que contenga elementos del 10 al 19 y guárdala en \"C\"\n",
    "- Obten el producto matricial de A y B y almacénalo en \"D\"\n",
    "- Suma las matrices C y D y guárdala en \"E\"\n",
    "- Multiplica \"E\" por 10(escalar) y guárdala en \"F\"\n",
    "- Muestra todas las filas y los valores a partir de la columna 1"
   ]
  },
  {
   "cell_type": "code",
   "execution_count": 94,
   "metadata": {},
   "outputs": [
    {
     "name": "stdout",
     "output_type": "stream",
     "text": [
      "El resultado es:\n",
      "[[ 3330  3340]\n",
      " [10640 10650]\n",
      " [ 1430  1440]]\n"
     ]
    }
   ],
   "source": [
    "lista=[12,15,19,60,80,10,9,0,9]\n",
    "A=np.array(lista).reshape(3,3)\n",
    "B=np.full((3,3),7)\n",
    "C=np.arange(10,19).reshape(3,3)\n",
    "D=A@B\n",
    "E=D+C\n",
    "F=10*E\n",
    "print(\"El resultado es:\\n{}\".format(F[:,1:]))"
   ]
  },
  {
   "cell_type": "code",
   "execution_count": null,
   "metadata": {},
   "outputs": [],
   "source": []
  }
 ],
 "metadata": {
  "kernelspec": {
   "display_name": "Python 3",
   "language": "python",
   "name": "python3"
  },
  "language_info": {
   "codemirror_mode": {
    "name": "ipython",
    "version": 3
   },
   "file_extension": ".py",
   "mimetype": "text/x-python",
   "name": "python",
   "nbconvert_exporter": "python",
   "pygments_lexer": "ipython3",
   "version": "3.7.3"
  }
 },
 "nbformat": 4,
 "nbformat_minor": 4
}
